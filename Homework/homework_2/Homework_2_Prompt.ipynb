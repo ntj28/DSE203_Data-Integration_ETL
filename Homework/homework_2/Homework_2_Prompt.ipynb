{
 "cells": [
  {
   "cell_type": "markdown",
   "metadata": {},
   "source": [
    "<h1 align=\"center\"> Why this for Database Class? </h1>"
   ]
  },
  {
   "cell_type": "markdown",
   "metadata": {},
   "source": [
    "I love Jupyter notebooks. There was no word document or text file for our homework and I like having my homework prompt somewhere. I also like having a central place where I can navigate to my SQL or Clover or Pentaho Files "
   ]
  },
  {
   "cell_type": "markdown",
   "metadata": {},
   "source": [
    "<h2 align=\"left\"> Problem 1 </h2>"
   ]
  },
  {
   "cell_type": "markdown",
   "metadata": {},
   "source": [
    "Please find a file called \"GTD with errors\" in the \"Data Sets\" folder. This is the almost the same as the original GTD file with some unnecessary columns removed. Some of the data items have errors. Your homework is:\n",
    "\n",
    "(a) identify erroneous data\n",
    "\n",
    "(b) write down the integrity constraints they violate - specify the type of constraint violation, and the express the constraint in Datalog syntax. Remember that one error can violate multiple integrity constraints. \n",
    "\n",
    "(c) use your ETL tool to convert the single-table schema to the normalized schema you defined in HW 1. Make sure that only the error-free tuples are placed into the normalized schema. If in the process you *correct* (i.e., repair) some errors, demonstrate how you corrected the data."
   ]
  },
  {
   "cell_type": "markdown",
   "metadata": {},
   "source": [
    "<h2 align=\"left\"> Thoughts on Homework 2 </h2>"
   ]
  },
  {
   "cell_type": "markdown",
   "metadata": {},
   "source": [
    "What are some of the possible errors-\n",
    "\n",
    "Errors are typically values that do not comply with some obvious constraints in the table like-\n",
    "\n",
    "Are primary key values unique?\n",
    "\n",
    "Is the City actually inside the state that is mentioned?\n",
    "\n",
    "Is no. of people killed in us less than no. of people killed overall?\n",
    "\n",
    "These are some lines on which you should think.\n",
    "\n",
    "\n",
    "How to read data from 1 file and distribute it among different components so that they execute it parallelly?\n",
    "\n",
    "Try exploring  SimpleCopy option.   you can read more here.  \n",
    "\n",
    "http://doc.cloveretl.com/documentation/UserGuide/index.jsp?topic=/com.cloveretl.gui.docs/docs/simplecopy.html\n",
    "\n",
    "2. How to split 1 data file into two and creating foreign keys. For example, I have a Table Person(Name, Gender Code, Gender Type) where gender code in 1 or 0 and gender type is M or F. Where M =0 and F =1. I want to split the gender code and type fields into a separate table, so that it has only two records 0 --- M and 1---F . How to do this?. This is the third normal form. Currently, the normalizer transformer only splits a row into multiple rows. "
   ]
  },
  {
   "cell_type": "markdown",
   "metadata": {},
   "source": [
    "Answer:\n",
    "\n",
    "Use the Aggregate components, you can read more here.\n",
    "http://doc.cloveretl.com/documentation/UserGuide/index.jsp?topic=/com.cloveretl.gui.docs/docs/aggregate.html\n",
    "\n",
    "The following is the steps you need to take to accomplish your use case:\n",
    "\n",
    "Sort the input based on  Gender Code and Gender Key\n",
    "\n",
    "The output metadata of the Aggregate should be the Gender Code and Gender Key\n",
    "\n",
    "In the Aggregate key property choose both the Gender Code and Gender Key\n",
    "\n",
    "In the Aggregate mapping under the Function tab choose fisrtnonnull for both Gender Code and Gender Type. In the mapping tab, connect corresponding inputs and outputs."
   ]
  },
  {
   "cell_type": "code",
   "execution_count": null,
   "metadata": {
    "collapsed": true
   },
   "outputs": [],
   "source": [
    "# 9/30, 10/14, 10/28, 11/4, 11/18, 12/9"
   ]
  }
 ],
 "metadata": {
  "kernelspec": {
   "display_name": "Python 2",
   "language": "python",
   "name": "python2"
  },
  "language_info": {
   "codemirror_mode": {
    "name": "ipython",
    "version": 2
   },
   "file_extension": ".py",
   "mimetype": "text/x-python",
   "name": "python",
   "nbconvert_exporter": "python",
   "pygments_lexer": "ipython2",
   "version": "2.7.12"
  }
 },
 "nbformat": 4,
 "nbformat_minor": 0
}
