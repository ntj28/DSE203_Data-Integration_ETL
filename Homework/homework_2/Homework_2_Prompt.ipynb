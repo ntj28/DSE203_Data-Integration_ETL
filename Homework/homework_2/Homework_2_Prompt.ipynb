{
 "cells": [
  {
   "cell_type": "markdown",
   "metadata": {},
   "source": [
    "<h1 align=\"center\"> Why this for Database Class? </h1>"
   ]
  },
  {
   "cell_type": "markdown",
   "metadata": {},
   "source": [
    "I love Jupyter notebooks. There was no word document or text file for our homework and I like having my homework prompt somewhere. I also like having a central place where I can navigate to my SQL or Clover or Pentaho Files "
   ]
  },
  {
   "cell_type": "markdown",
   "metadata": {},
   "source": [
    "<h2 align=\"left\"> Problem 1 </h2>"
   ]
  },
  {
   "cell_type": "markdown",
   "metadata": {},
   "source": [
    "Starting with the single-table Global Terrorism Database, create a normalized relational schema. The schema should be in BCNF or in 3rd Normal Form.\n",
    "\n",
    "Your output can be in Datalog style:\n",
    "\n",
    "relation1(attrib1:datatype1, attrib2:datatype2, ....)\n",
    "\n",
    "relation2(attrib10:datatype10, ...)\n",
    "\n",
    "OR it can be an SQL DDL"
   ]
  },
  {
   "cell_type": "markdown",
   "metadata": {},
   "source": [
    "<h2 align=\"left\"> Problem 2 </h2>"
   ]
  },
  {
   "cell_type": "markdown",
   "metadata": {},
   "source": [
    "Rewrite the following queries for normalized schema\n",
    "\n",
    "<b> 1) </b> select eventid, iyear\n",
    "from GTD\n",
    "where region_text like '%Africa'\n",
    " \n",
    "<b> 2) </b>select iday, imonth, iyear, city, country_txt\n",
    "from GTD\n",
    "where nkill > 5 and weapdetail like '%bomb%'\n",
    " \n",
    "<b> 3) </b>select G1.eventid, G2.eventid\n",
    "from GTD G1, GTD G2\n",
    "where\n",
    "G1.eventid <> G2.eventid and\n",
    "G1.iday = G2.iday and\n",
    "G1.imonth = G2.imonth and\n",
    "G1.iyear = G2.iyear and\n",
    "G1.country = G2.country and\n",
    "G1.weaptype1 = G2.weaptype1\n",
    " \n",
    "<b> 4) </b>select eventid\n",
    "from GTD where\n",
    "targtype1 = 2 or targtype2 = 2\n",
    " \n",
    "<b> 5) </b>select summary\n",
    "from GTD\n",
    "where\n",
    "country_txt = 'Afghanistan' and\n",
    "motive is not null"
   ]
  },
  {
   "cell_type": "markdown",
   "metadata": {},
   "source": []
  }
 ],
 "metadata": {
  "kernelspec": {
   "display_name": "Python 2",
   "language": "python",
   "name": "python2"
  },
  "language_info": {
   "codemirror_mode": {
    "name": "ipython",
    "version": 2
   },
   "file_extension": ".py",
   "mimetype": "text/x-python",
   "name": "python",
   "nbconvert_exporter": "python",
   "pygments_lexer": "ipython2",
   "version": "2.7.12"
  }
 },
 "nbformat": 4,
 "nbformat_minor": 0
}
