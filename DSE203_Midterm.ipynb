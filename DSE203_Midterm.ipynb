{
 "cells": [
  {
   "cell_type": "markdown",
   "metadata": {},
   "source": [
    "<h1 align=\"center\"> DSE 203 Homework 2 </h1>"
   ]
  },
  {
   "cell_type": "markdown",
   "metadata": {},
   "source": [
    "1) What is virtual data integration? When is virtual data integration undesirable?"
   ]
  },
  {
   "cell_type": "markdown",
   "metadata": {},
   "source": [
    "pg 10-11 in the textbook (Principles of Data Integration)."
   ]
  },
  {
   "cell_type": "markdown",
   "metadata": {},
   "source": [
    "these programs are called wrappers, and their role is to send queries to a data source, receive answers, and possibly apply some basic transforma- tions on the answer. For example, a wrapper to a Web form source would accept a query and translate it into the appropriate HTTP request with a URL that poses the query on\n",
    "FIGURE 1.4\n",
    "the source. When the answer comes back in the form of an HTML file, the wrapper would extract the tuples from the HTML file."
   ]
  },
  {
   "cell_type": "markdown",
   "metadata": {},
   "source": [
    "It is important to emphasize that the virtual data integration architecture only requires specifying mappings between the data sources and the mediated schema and not between every pair of data sources. Hence, the number of mappings we specify is the same as the number of sources and not the square of that number. "
   ]
  },
  {
   "cell_type": "markdown",
   "metadata": {},
   "source": [
    "2) What is data exchange in the context of data integration? Where is data exchange used?"
   ]
  },
  {
   "cell_type": "markdown",
   "metadata": {},
   "source": []
  },
  {
   "cell_type": "markdown",
   "metadata": {},
   "source": [
    "3) When should Affine Gap Measure be used in preference to the Smith-Waterman Method for string comparison? Give examples."
   ]
  },
  {
   "cell_type": "markdown",
   "metadata": {},
   "source": []
  },
  {
   "cell_type": "markdown",
   "metadata": {},
   "source": [
    "4) Give an example of conditional inclusion dependency and its use in data cleaning. (not in book)"
   ]
  },
  {
   "cell_type": "markdown",
   "metadata": {},
   "source": []
  },
  {
   "cell_type": "markdown",
   "metadata": {},
   "source": [
    "5) How is query unfolding used in data integration?"
   ]
  },
  {
   "cell_type": "markdown",
   "metadata": {},
   "source": []
  },
  {
   "cell_type": "markdown",
   "metadata": {},
   "source": [
    "6) Give an example of semantic heterogeneity in the context of data integration. (chapter 5.2 pg 125,67 in the textbook) "
   ]
  },
  {
   "cell_type": "markdown",
   "metadata": {},
   "source": [
    "7) Consider two tables T1 and T2 where T1 contains two columns for latitude and longitude and T2 has one column containing latitude and longitude separated by a comma (,). What would be your data matching strategy for this information?"
   ]
  },
  {
   "cell_type": "code",
   "execution_count": null,
   "metadata": {
    "collapsed": true
   },
   "outputs": [],
   "source": []
  },
  {
   "cell_type": "markdown",
   "metadata": {},
   "source": [
    "8) Consider the strings \"US President Barak Obama\" and \"Obama, Barak Hussein, President\". Use a suitable string matching method to find their simlarity and justify your choice of algorithm."
   ]
  },
  {
   "cell_type": "markdown",
   "metadata": {},
   "source": []
  },
  {
   "cell_type": "markdown",
   "metadata": {},
   "source": [
    "9) Give a practical example where binding patterns are used for querying a data source. (pg 94 is a great resource) "
   ]
  },
  {
   "cell_type": "markdown",
   "metadata": {},
   "source": []
  },
  {
   "cell_type": "markdown",
   "metadata": {},
   "source": [
    "10) Illustrate with an example how sorting can help the scaling up of rule based data matching. (pg 203 is wonderful). (chapter 7.2 pg 175)"
   ]
  },
  {
   "cell_type": "markdown",
   "metadata": {},
   "source": []
  },
  {
   "cell_type": "markdown",
   "metadata": {},
   "source": [
    "11) When should the generalized Jaccard similarity measure be used for string matching? (chapter 7 pg 199)"
   ]
  },
  {
   "cell_type": "markdown",
   "metadata": {},
   "source": []
  },
  {
   "cell_type": "markdown",
   "metadata": {},
   "source": [
    "12) Suppose we know that source S1 with table T1(eventID, eventType, eventDate, eventCountry, eventCity, responsibleParty, eventDescription) is complete for the countries 'USA', 'Iraq', and 'Germany'. How does this knowledge help us in the integration of this source with another data source on organizations that claim reponsibility for an event?"
   ]
  },
  {
   "cell_type": "markdown",
   "metadata": {},
   "source": []
  },
  {
   "cell_type": "markdown",
   "metadata": {},
   "source": [
    "13) Suppose we have a source schema:\n",
    "\n",
    "Patient(pid, name, healthplan, date) \n",
    "\n",
    "Doctor(pid, docid) \n",
    "\n",
    "and a target schema\n",
    "\n",
    "History(pid, plan, date, docid) \n",
    "\n",
    "Physician(docid, name, office)\n",
    "\n",
    "and the mapping Patient(x,y,z,u), \u0005Doctor(x,v) →History(x,z,u,v)\n",
    "\n",
    "What kind of schema mapping is this? Explain your reasoning."
   ]
  },
  {
   "cell_type": "markdown",
   "metadata": {},
   "source": []
  },
  {
   "cell_type": "markdown",
   "metadata": {},
   "source": [
    "14) Write the query \"select e.name, e.salary, p.title from employees e, projects p where e.works_in = p.title and e,salary > 100000\" in Datalog."
   ]
  },
  {
   "cell_type": "markdown",
   "metadata": {},
   "source": []
  },
  {
   "cell_type": "markdown",
   "metadata": {},
   "source": [
    "15) Explain the concept of producing \"certain answers\" against a mediated schema."
   ]
  },
  {
   "cell_type": "markdown",
   "metadata": {},
   "source": []
  },
  {
   "cell_type": "markdown",
   "metadata": {},
   "source": [
    "16) Is TF-TDF a good measure to match tweets? If so, explain why. If not, how would you match them?"
   ]
  },
  {
   "cell_type": "markdown",
   "metadata": {},
   "source": []
  },
  {
   "cell_type": "markdown",
   "metadata": {},
   "source": [
    "17) With an example show how a conditional functional dependency can be expressed as a denial constraint for data cleaning."
   ]
  },
  {
   "cell_type": "markdown",
   "metadata": {},
   "source": []
  },
  {
   "cell_type": "markdown",
   "metadata": {},
   "source": [
    "18) Give an example where a logistic regression rule should be used for data matching between two relational tables."
   ]
  },
  {
   "cell_type": "markdown",
   "metadata": {},
   "source": []
  },
  {
   "cell_type": "markdown",
   "metadata": {},
   "source": [
    "19) What is \"semantic match\" in the context of data integration?"
   ]
  },
  {
   "cell_type": "markdown",
   "metadata": {},
   "source": [
    "pg 123 chapter 5.1.2"
   ]
  },
  {
   "cell_type": "code",
   "execution_count": null,
   "metadata": {
    "collapsed": true
   },
   "outputs": [],
   "source": []
  }
 ],
 "metadata": {
  "anaconda-cloud": {},
  "kernelspec": {
   "display_name": "Python [conda root]",
   "language": "python",
   "name": "conda-root-py"
  },
  "language_info": {
   "codemirror_mode": {
    "name": "ipython",
    "version": 3
   },
   "file_extension": ".py",
   "mimetype": "text/x-python",
   "name": "python",
   "nbconvert_exporter": "python",
   "pygments_lexer": "ipython3",
   "version": "3.5.2"
  }
 },
 "nbformat": 4,
 "nbformat_minor": 0
}
